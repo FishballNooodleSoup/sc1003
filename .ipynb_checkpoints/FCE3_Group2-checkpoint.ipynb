{
 "cells": [
  {
   "cell_type": "markdown",
   "id": "0024d19b-fe53-42cb-8e07-6db1458895be",
   "metadata": {},
   "source": [
    "# Excel Data Consolidation And Analysis"
   ]
  },
  {
   "cell_type": "markdown",
   "id": "a30b9c0c-99d9-4e1f-8a10-13afa04c31f4",
   "metadata": {},
   "source": [
    "# Create Flowchart"
   ]
  },
  {
   "cell_type": "markdown",
   "id": "169d3560-3dee-493d-a077-69cd9b4db31d",
   "metadata": {},
   "source": [
    "# Code Implementation AND Error Handling\n"
   ]
  },
  {
   "cell_type": "markdown",
   "id": "e3d4a869-703e-46fb-8982-a575e21c428c",
   "metadata": {},
   "source": [
    "# Edge Cases Sample Data and Expected Results"
   ]
  },
  {
   "cell_type": "markdown",
   "id": "d92846dd-150f-4fee-aa3c-a259089759be",
   "metadata": {},
   "source": [
    "# Evaluation of Algorithm"
   ]
  }
 ],
 "metadata": {
  "kernelspec": {
   "display_name": "Python 3 (ipykernel)",
   "language": "python",
   "name": "python3"
  },
  "language_info": {
   "codemirror_mode": {
    "name": "ipython",
    "version": 3
   },
   "file_extension": ".py",
   "mimetype": "text/x-python",
   "name": "python",
   "nbconvert_exporter": "python",
   "pygments_lexer": "ipython3",
   "version": "3.12.10"
  }
 },
 "nbformat": 4,
 "nbformat_minor": 5
}
