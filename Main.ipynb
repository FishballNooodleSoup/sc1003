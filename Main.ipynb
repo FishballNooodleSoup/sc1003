{
 "cells": [
  {
   "cell_type": "code",
   "execution_count": null,
   "id": "1489c5d4-b0a9-4ed0-b009-ba251218071e",
   "metadata": {},
   "outputs": [],
   "source": [
    "hello"
   ]
  },
  {
   "cell_type": "code",
   "execution_count": null,
   "id": "c5a2b43f",
   "metadata": {},
   "outputs": [],
   "source": [
    "yizhen solo carry"
   ]
  }
 ],
 "metadata": {
  "kernelspec": {
   "display_name": "Python 3 (ipykernel)",
   "language": "python",
   "name": "python3"
  },
  "language_info": {
   "codemirror_mode": {
    "name": "ipython",
    "version": 3
   },
   "file_extension": ".py",
   "mimetype": "text/x-python",
   "name": "python",
   "nbconvert_exporter": "python",
   "pygments_lexer": "ipython3",
   "version": "3.12.10"
  }
 },
 "nbformat": 4,
 "nbformat_minor": 5
}
